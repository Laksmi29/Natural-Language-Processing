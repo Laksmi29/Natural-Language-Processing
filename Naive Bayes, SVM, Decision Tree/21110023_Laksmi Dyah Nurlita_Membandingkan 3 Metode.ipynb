{
 "cells": [
  {
   "cell_type": "code",
   "execution_count": 1,
   "id": "ab4d881c",
   "metadata": {},
   "outputs": [],
   "source": [
    "import pandas as pd\n",
    "import numpy as np\n",
    "import re\n",
    "import re as reg\n",
    "import matplotlib.pyplot as plt\n",
    "%matplotlib inline"
   ]
  },
  {
   "cell_type": "code",
   "execution_count": 36,
   "id": "37eb137d",
   "metadata": {},
   "outputs": [
    {
     "data": {
      "text/html": [
       "<div>\n",
       "<style scoped>\n",
       "    .dataframe tbody tr th:only-of-type {\n",
       "        vertical-align: middle;\n",
       "    }\n",
       "\n",
       "    .dataframe tbody tr th {\n",
       "        vertical-align: top;\n",
       "    }\n",
       "\n",
       "    .dataframe thead th {\n",
       "        text-align: right;\n",
       "    }\n",
       "</style>\n",
       "<table border=\"1\" class=\"dataframe\">\n",
       "  <thead>\n",
       "    <tr style=\"text-align: right;\">\n",
       "      <th></th>\n",
       "      <th>Unnamed: 0</th>\n",
       "      <th>Review</th>\n",
       "      <th>Positif</th>\n",
       "      <th>Negatif</th>\n",
       "    </tr>\n",
       "  </thead>\n",
       "  <tbody>\n",
       "    <tr>\n",
       "      <th>0</th>\n",
       "      <td>0</td>\n",
       "      <td>akses jalan luas mudah mobil motor tiket masuk...</td>\n",
       "      <td>1</td>\n",
       "      <td>0</td>\n",
       "    </tr>\n",
       "    <tr>\n",
       "      <th>1</th>\n",
       "      <td>1</td>\n",
       "      <td>recomended buat libur sama keluarga tempat ber...</td>\n",
       "      <td>1</td>\n",
       "      <td>0</td>\n",
       "    </tr>\n",
       "    <tr>\n",
       "      <th>2</th>\n",
       "      <td>2</td>\n",
       "      <td>beberapa kali datang kesini tempat wisata sang...</td>\n",
       "      <td>1</td>\n",
       "      <td>0</td>\n",
       "    </tr>\n",
       "    <tr>\n",
       "      <th>3</th>\n",
       "      <td>3</td>\n",
       "      <td>hutan pinus milik hutan fungsi wisata konsep w...</td>\n",
       "      <td>1</td>\n",
       "      <td>0</td>\n",
       "    </tr>\n",
       "    <tr>\n",
       "      <th>4</th>\n",
       "      <td>4</td>\n",
       "      <td>benar tempat oke bht cuma ko apa bayar si masu...</td>\n",
       "      <td>1</td>\n",
       "      <td>0</td>\n",
       "    </tr>\n",
       "    <tr>\n",
       "      <th>...</th>\n",
       "      <td>...</td>\n",
       "      <td>...</td>\n",
       "      <td>...</td>\n",
       "      <td>...</td>\n",
       "    </tr>\n",
       "    <tr>\n",
       "      <th>394</th>\n",
       "      <td>394</td>\n",
       "      <td>tempat bagus asli asyik tempate</td>\n",
       "      <td>1</td>\n",
       "      <td>0</td>\n",
       "    </tr>\n",
       "    <tr>\n",
       "      <th>395</th>\n",
       "      <td>395</td>\n",
       "      <td>datang utama suka sejarah asli must come espec...</td>\n",
       "      <td>1</td>\n",
       "      <td>0</td>\n",
       "    </tr>\n",
       "    <tr>\n",
       "      <th>396</th>\n",
       "      <td>396</td>\n",
       "      <td>layan lebih cepat perban banyak cabang bri lai...</td>\n",
       "      <td>1</td>\n",
       "      <td>0</td>\n",
       "    </tr>\n",
       "    <tr>\n",
       "      <th>397</th>\n",
       "      <td>397</td>\n",
       "      <td>tempat bagus tahu sejarah bri asli</td>\n",
       "      <td>1</td>\n",
       "      <td>0</td>\n",
       "    </tr>\n",
       "    <tr>\n",
       "      <th>398</th>\n",
       "      <td>398</td>\n",
       "      <td>museum bank rakyat indonesia lihat semua kolek...</td>\n",
       "      <td>0</td>\n",
       "      <td>0</td>\n",
       "    </tr>\n",
       "  </tbody>\n",
       "</table>\n",
       "<p>399 rows × 4 columns</p>\n",
       "</div>"
      ],
      "text/plain": [
       "     Unnamed: 0                                             Review  Positif  \\\n",
       "0             0  akses jalan luas mudah mobil motor tiket masuk...        1   \n",
       "1             1  recomended buat libur sama keluarga tempat ber...        1   \n",
       "2             2  beberapa kali datang kesini tempat wisata sang...        1   \n",
       "3             3  hutan pinus milik hutan fungsi wisata konsep w...        1   \n",
       "4             4  benar tempat oke bht cuma ko apa bayar si masu...        1   \n",
       "..          ...                                                ...      ...   \n",
       "394         394                    tempat bagus asli asyik tempate        1   \n",
       "395         395  datang utama suka sejarah asli must come espec...        1   \n",
       "396         396  layan lebih cepat perban banyak cabang bri lai...        1   \n",
       "397         397                 tempat bagus tahu sejarah bri asli        1   \n",
       "398         398  museum bank rakyat indonesia lihat semua kolek...        0   \n",
       "\n",
       "     Negatif  \n",
       "0          0  \n",
       "1          0  \n",
       "2          0  \n",
       "3          0  \n",
       "4          0  \n",
       "..       ...  \n",
       "394        0  \n",
       "395        0  \n",
       "396        0  \n",
       "397        0  \n",
       "398        0  \n",
       "\n",
       "[399 rows x 4 columns]"
      ]
     },
     "execution_count": 36,
     "metadata": {},
     "output_type": "execute_result"
    }
   ],
   "source": [
    "x = pd.read_excel(\"HasilAkhir.xlsx\")\n",
    "x"
   ]
  },
  {
   "cell_type": "code",
   "execution_count": 37,
   "id": "025d4837",
   "metadata": {},
   "outputs": [
    {
     "data": {
      "text/html": [
       "<div>\n",
       "<style scoped>\n",
       "    .dataframe tbody tr th:only-of-type {\n",
       "        vertical-align: middle;\n",
       "    }\n",
       "\n",
       "    .dataframe tbody tr th {\n",
       "        vertical-align: top;\n",
       "    }\n",
       "\n",
       "    .dataframe thead th {\n",
       "        text-align: right;\n",
       "    }\n",
       "</style>\n",
       "<table border=\"1\" class=\"dataframe\">\n",
       "  <thead>\n",
       "    <tr style=\"text-align: right;\">\n",
       "      <th></th>\n",
       "      <th>Unnamed: 0</th>\n",
       "      <th>Review</th>\n",
       "      <th>Positif</th>\n",
       "      <th>Negatif</th>\n",
       "      <th>label</th>\n",
       "    </tr>\n",
       "  </thead>\n",
       "  <tbody>\n",
       "    <tr>\n",
       "      <th>0</th>\n",
       "      <td>0</td>\n",
       "      <td>akses jalan luas mudah mobil motor tiket masuk...</td>\n",
       "      <td>1</td>\n",
       "      <td>0</td>\n",
       "      <td></td>\n",
       "    </tr>\n",
       "    <tr>\n",
       "      <th>1</th>\n",
       "      <td>1</td>\n",
       "      <td>recomended buat libur sama keluarga tempat ber...</td>\n",
       "      <td>1</td>\n",
       "      <td>0</td>\n",
       "      <td></td>\n",
       "    </tr>\n",
       "    <tr>\n",
       "      <th>2</th>\n",
       "      <td>2</td>\n",
       "      <td>beberapa kali datang kesini tempat wisata sang...</td>\n",
       "      <td>1</td>\n",
       "      <td>0</td>\n",
       "      <td></td>\n",
       "    </tr>\n",
       "    <tr>\n",
       "      <th>3</th>\n",
       "      <td>3</td>\n",
       "      <td>hutan pinus milik hutan fungsi wisata konsep w...</td>\n",
       "      <td>1</td>\n",
       "      <td>0</td>\n",
       "      <td></td>\n",
       "    </tr>\n",
       "    <tr>\n",
       "      <th>4</th>\n",
       "      <td>4</td>\n",
       "      <td>benar tempat oke bht cuma ko apa bayar si masu...</td>\n",
       "      <td>1</td>\n",
       "      <td>0</td>\n",
       "      <td></td>\n",
       "    </tr>\n",
       "    <tr>\n",
       "      <th>...</th>\n",
       "      <td>...</td>\n",
       "      <td>...</td>\n",
       "      <td>...</td>\n",
       "      <td>...</td>\n",
       "      <td>...</td>\n",
       "    </tr>\n",
       "    <tr>\n",
       "      <th>394</th>\n",
       "      <td>394</td>\n",
       "      <td>tempat bagus asli asyik tempate</td>\n",
       "      <td>1</td>\n",
       "      <td>0</td>\n",
       "      <td></td>\n",
       "    </tr>\n",
       "    <tr>\n",
       "      <th>395</th>\n",
       "      <td>395</td>\n",
       "      <td>datang utama suka sejarah asli must come espec...</td>\n",
       "      <td>1</td>\n",
       "      <td>0</td>\n",
       "      <td></td>\n",
       "    </tr>\n",
       "    <tr>\n",
       "      <th>396</th>\n",
       "      <td>396</td>\n",
       "      <td>layan lebih cepat perban banyak cabang bri lai...</td>\n",
       "      <td>1</td>\n",
       "      <td>0</td>\n",
       "      <td></td>\n",
       "    </tr>\n",
       "    <tr>\n",
       "      <th>397</th>\n",
       "      <td>397</td>\n",
       "      <td>tempat bagus tahu sejarah bri asli</td>\n",
       "      <td>1</td>\n",
       "      <td>0</td>\n",
       "      <td></td>\n",
       "    </tr>\n",
       "    <tr>\n",
       "      <th>398</th>\n",
       "      <td>398</td>\n",
       "      <td>museum bank rakyat indonesia lihat semua kolek...</td>\n",
       "      <td>0</td>\n",
       "      <td>0</td>\n",
       "      <td></td>\n",
       "    </tr>\n",
       "  </tbody>\n",
       "</table>\n",
       "<p>399 rows × 5 columns</p>\n",
       "</div>"
      ],
      "text/plain": [
       "     Unnamed: 0                                             Review  Positif  \\\n",
       "0             0  akses jalan luas mudah mobil motor tiket masuk...        1   \n",
       "1             1  recomended buat libur sama keluarga tempat ber...        1   \n",
       "2             2  beberapa kali datang kesini tempat wisata sang...        1   \n",
       "3             3  hutan pinus milik hutan fungsi wisata konsep w...        1   \n",
       "4             4  benar tempat oke bht cuma ko apa bayar si masu...        1   \n",
       "..          ...                                                ...      ...   \n",
       "394         394                    tempat bagus asli asyik tempate        1   \n",
       "395         395  datang utama suka sejarah asli must come espec...        1   \n",
       "396         396  layan lebih cepat perban banyak cabang bri lai...        1   \n",
       "397         397                 tempat bagus tahu sejarah bri asli        1   \n",
       "398         398  museum bank rakyat indonesia lihat semua kolek...        0   \n",
       "\n",
       "     Negatif label  \n",
       "0          0        \n",
       "1          0        \n",
       "2          0        \n",
       "3          0        \n",
       "4          0        \n",
       "..       ...   ...  \n",
       "394        0        \n",
       "395        0        \n",
       "396        0        \n",
       "397        0        \n",
       "398        0        \n",
       "\n",
       "[399 rows x 5 columns]"
      ]
     },
     "execution_count": 37,
     "metadata": {},
     "output_type": "execute_result"
    }
   ],
   "source": [
    "x['label'] = ''\n",
    "x"
   ]
  },
  {
   "cell_type": "code",
   "execution_count": 38,
   "id": "db0d778a",
   "metadata": {},
   "outputs": [
    {
     "data": {
      "text/html": [
       "<div>\n",
       "<style scoped>\n",
       "    .dataframe tbody tr th:only-of-type {\n",
       "        vertical-align: middle;\n",
       "    }\n",
       "\n",
       "    .dataframe tbody tr th {\n",
       "        vertical-align: top;\n",
       "    }\n",
       "\n",
       "    .dataframe thead th {\n",
       "        text-align: right;\n",
       "    }\n",
       "</style>\n",
       "<table border=\"1\" class=\"dataframe\">\n",
       "  <thead>\n",
       "    <tr style=\"text-align: right;\">\n",
       "      <th></th>\n",
       "      <th>Unnamed: 0</th>\n",
       "      <th>Review</th>\n",
       "      <th>Positif</th>\n",
       "      <th>Negatif</th>\n",
       "      <th>label</th>\n",
       "    </tr>\n",
       "  </thead>\n",
       "  <tbody>\n",
       "    <tr>\n",
       "      <th>0</th>\n",
       "      <td>0</td>\n",
       "      <td>akses jalan luas mudah mobil motor tiket masuk...</td>\n",
       "      <td>1</td>\n",
       "      <td>0</td>\n",
       "      <td>1</td>\n",
       "    </tr>\n",
       "    <tr>\n",
       "      <th>1</th>\n",
       "      <td>1</td>\n",
       "      <td>recomended buat libur sama keluarga tempat ber...</td>\n",
       "      <td>1</td>\n",
       "      <td>0</td>\n",
       "      <td>1</td>\n",
       "    </tr>\n",
       "    <tr>\n",
       "      <th>2</th>\n",
       "      <td>2</td>\n",
       "      <td>beberapa kali datang kesini tempat wisata sang...</td>\n",
       "      <td>1</td>\n",
       "      <td>0</td>\n",
       "      <td>1</td>\n",
       "    </tr>\n",
       "    <tr>\n",
       "      <th>3</th>\n",
       "      <td>3</td>\n",
       "      <td>hutan pinus milik hutan fungsi wisata konsep w...</td>\n",
       "      <td>1</td>\n",
       "      <td>0</td>\n",
       "      <td>1</td>\n",
       "    </tr>\n",
       "    <tr>\n",
       "      <th>4</th>\n",
       "      <td>4</td>\n",
       "      <td>benar tempat oke bht cuma ko apa bayar si masu...</td>\n",
       "      <td>1</td>\n",
       "      <td>0</td>\n",
       "      <td>1</td>\n",
       "    </tr>\n",
       "    <tr>\n",
       "      <th>...</th>\n",
       "      <td>...</td>\n",
       "      <td>...</td>\n",
       "      <td>...</td>\n",
       "      <td>...</td>\n",
       "      <td>...</td>\n",
       "    </tr>\n",
       "    <tr>\n",
       "      <th>394</th>\n",
       "      <td>394</td>\n",
       "      <td>tempat bagus asli asyik tempate</td>\n",
       "      <td>1</td>\n",
       "      <td>0</td>\n",
       "      <td>1</td>\n",
       "    </tr>\n",
       "    <tr>\n",
       "      <th>395</th>\n",
       "      <td>395</td>\n",
       "      <td>datang utama suka sejarah asli must come espec...</td>\n",
       "      <td>1</td>\n",
       "      <td>0</td>\n",
       "      <td>1</td>\n",
       "    </tr>\n",
       "    <tr>\n",
       "      <th>396</th>\n",
       "      <td>396</td>\n",
       "      <td>layan lebih cepat perban banyak cabang bri lai...</td>\n",
       "      <td>1</td>\n",
       "      <td>0</td>\n",
       "      <td>1</td>\n",
       "    </tr>\n",
       "    <tr>\n",
       "      <th>397</th>\n",
       "      <td>397</td>\n",
       "      <td>tempat bagus tahu sejarah bri asli</td>\n",
       "      <td>1</td>\n",
       "      <td>0</td>\n",
       "      <td>1</td>\n",
       "    </tr>\n",
       "    <tr>\n",
       "      <th>398</th>\n",
       "      <td>398</td>\n",
       "      <td>museum bank rakyat indonesia lihat semua kolek...</td>\n",
       "      <td>0</td>\n",
       "      <td>0</td>\n",
       "      <td>0</td>\n",
       "    </tr>\n",
       "  </tbody>\n",
       "</table>\n",
       "<p>399 rows × 5 columns</p>\n",
       "</div>"
      ],
      "text/plain": [
       "     Unnamed: 0                                             Review  Positif  \\\n",
       "0             0  akses jalan luas mudah mobil motor tiket masuk...        1   \n",
       "1             1  recomended buat libur sama keluarga tempat ber...        1   \n",
       "2             2  beberapa kali datang kesini tempat wisata sang...        1   \n",
       "3             3  hutan pinus milik hutan fungsi wisata konsep w...        1   \n",
       "4             4  benar tempat oke bht cuma ko apa bayar si masu...        1   \n",
       "..          ...                                                ...      ...   \n",
       "394         394                    tempat bagus asli asyik tempate        1   \n",
       "395         395  datang utama suka sejarah asli must come espec...        1   \n",
       "396         396  layan lebih cepat perban banyak cabang bri lai...        1   \n",
       "397         397                 tempat bagus tahu sejarah bri asli        1   \n",
       "398         398  museum bank rakyat indonesia lihat semua kolek...        0   \n",
       "\n",
       "     Negatif label  \n",
       "0          0     1  \n",
       "1          0     1  \n",
       "2          0     1  \n",
       "3          0     1  \n",
       "4          0     1  \n",
       "..       ...   ...  \n",
       "394        0     1  \n",
       "395        0     1  \n",
       "396        0     1  \n",
       "397        0     1  \n",
       "398        0     0  \n",
       "\n",
       "[399 rows x 5 columns]"
      ]
     },
     "execution_count": 38,
     "metadata": {},
     "output_type": "execute_result"
    }
   ],
   "source": [
    "for i in x.index:\n",
    "    if x.at[i, 'Positif'] == 1:\n",
    "        x.at[i,'label'] = 1\n",
    "    if x.at[i,'Negatif'] == -1:\n",
    "        x.at[i,'label'] = -1\n",
    "    if ((x.at[i, 'Negatif'] == 0) and (x.at[i, 'Positif'] == 0)):\n",
    "        x.at[i, 'label'] = 0\n",
    "x"
   ]
  },
  {
   "cell_type": "code",
   "execution_count": 39,
   "id": "0caa3e92",
   "metadata": {},
   "outputs": [
    {
     "data": {
      "text/html": [
       "<div>\n",
       "<style scoped>\n",
       "    .dataframe tbody tr th:only-of-type {\n",
       "        vertical-align: middle;\n",
       "    }\n",
       "\n",
       "    .dataframe tbody tr th {\n",
       "        vertical-align: top;\n",
       "    }\n",
       "\n",
       "    .dataframe thead th {\n",
       "        text-align: right;\n",
       "    }\n",
       "</style>\n",
       "<table border=\"1\" class=\"dataframe\">\n",
       "  <thead>\n",
       "    <tr style=\"text-align: right;\">\n",
       "      <th></th>\n",
       "      <th>Unnamed: 0</th>\n",
       "      <th>Review</th>\n",
       "      <th>label</th>\n",
       "    </tr>\n",
       "  </thead>\n",
       "  <tbody>\n",
       "    <tr>\n",
       "      <th>0</th>\n",
       "      <td>0</td>\n",
       "      <td>akses jalan luas mudah mobil motor tiket masuk...</td>\n",
       "      <td>1</td>\n",
       "    </tr>\n",
       "    <tr>\n",
       "      <th>1</th>\n",
       "      <td>1</td>\n",
       "      <td>recomended buat libur sama keluarga tempat ber...</td>\n",
       "      <td>1</td>\n",
       "    </tr>\n",
       "    <tr>\n",
       "      <th>2</th>\n",
       "      <td>2</td>\n",
       "      <td>beberapa kali datang kesini tempat wisata sang...</td>\n",
       "      <td>1</td>\n",
       "    </tr>\n",
       "    <tr>\n",
       "      <th>3</th>\n",
       "      <td>3</td>\n",
       "      <td>hutan pinus milik hutan fungsi wisata konsep w...</td>\n",
       "      <td>1</td>\n",
       "    </tr>\n",
       "    <tr>\n",
       "      <th>4</th>\n",
       "      <td>4</td>\n",
       "      <td>benar tempat oke bht cuma ko apa bayar si masu...</td>\n",
       "      <td>1</td>\n",
       "    </tr>\n",
       "    <tr>\n",
       "      <th>...</th>\n",
       "      <td>...</td>\n",
       "      <td>...</td>\n",
       "      <td>...</td>\n",
       "    </tr>\n",
       "    <tr>\n",
       "      <th>394</th>\n",
       "      <td>394</td>\n",
       "      <td>tempat bagus asli asyik tempate</td>\n",
       "      <td>1</td>\n",
       "    </tr>\n",
       "    <tr>\n",
       "      <th>395</th>\n",
       "      <td>395</td>\n",
       "      <td>datang utama suka sejarah asli must come espec...</td>\n",
       "      <td>1</td>\n",
       "    </tr>\n",
       "    <tr>\n",
       "      <th>396</th>\n",
       "      <td>396</td>\n",
       "      <td>layan lebih cepat perban banyak cabang bri lai...</td>\n",
       "      <td>1</td>\n",
       "    </tr>\n",
       "    <tr>\n",
       "      <th>397</th>\n",
       "      <td>397</td>\n",
       "      <td>tempat bagus tahu sejarah bri asli</td>\n",
       "      <td>1</td>\n",
       "    </tr>\n",
       "    <tr>\n",
       "      <th>398</th>\n",
       "      <td>398</td>\n",
       "      <td>museum bank rakyat indonesia lihat semua kolek...</td>\n",
       "      <td>0</td>\n",
       "    </tr>\n",
       "  </tbody>\n",
       "</table>\n",
       "<p>399 rows × 3 columns</p>\n",
       "</div>"
      ],
      "text/plain": [
       "     Unnamed: 0                                             Review label\n",
       "0             0  akses jalan luas mudah mobil motor tiket masuk...     1\n",
       "1             1  recomended buat libur sama keluarga tempat ber...     1\n",
       "2             2  beberapa kali datang kesini tempat wisata sang...     1\n",
       "3             3  hutan pinus milik hutan fungsi wisata konsep w...     1\n",
       "4             4  benar tempat oke bht cuma ko apa bayar si masu...     1\n",
       "..          ...                                                ...   ...\n",
       "394         394                    tempat bagus asli asyik tempate     1\n",
       "395         395  datang utama suka sejarah asli must come espec...     1\n",
       "396         396  layan lebih cepat perban banyak cabang bri lai...     1\n",
       "397         397                 tempat bagus tahu sejarah bri asli     1\n",
       "398         398  museum bank rakyat indonesia lihat semua kolek...     0\n",
       "\n",
       "[399 rows x 3 columns]"
      ]
     },
     "execution_count": 39,
     "metadata": {},
     "output_type": "execute_result"
    }
   ],
   "source": [
    "#Hapus kolom positif dan negatif\n",
    "x.drop(['Positif', 'Negatif'], axis = 1, inplace = True)\n",
    "x"
   ]
  },
  {
   "cell_type": "code",
   "execution_count": 40,
   "id": "109bb655",
   "metadata": {},
   "outputs": [
    {
     "name": "stdout",
     "output_type": "stream",
     "text": [
      "Label Sentimen Positif: 268\n",
      "Label Sentimen Netral: 83\n",
      "Label Sentimen Negatif: 48\n"
     ]
    }
   ],
   "source": [
    "positif = x[x['label'] == 1]['label'].count()\n",
    "netral = x[x['label'] == 0]['label'].count()\n",
    "negatif = x[x['label'] == -1]['label'].count()\n",
    "print('Label Sentimen Positif:', positif)\n",
    "print('Label Sentimen Netral:', netral)\n",
    "print('Label Sentimen Negatif:', negatif)"
   ]
  },
  {
   "cell_type": "code",
   "execution_count": 41,
   "id": "9cf6289a",
   "metadata": {},
   "outputs": [
    {
     "data": {
      "text/plain": [
       "array([[0., 0., 0., ..., 0., 0., 0.],\n",
       "       [0., 0., 0., ..., 0., 0., 0.],\n",
       "       [0., 0., 0., ..., 0., 0., 0.],\n",
       "       ...,\n",
       "       [0., 0., 0., ..., 0., 0., 0.],\n",
       "       [0., 0., 0., ..., 0., 0., 0.],\n",
       "       [0., 0., 0., ..., 0., 0., 0.]])"
      ]
     },
     "execution_count": 41,
     "metadata": {},
     "output_type": "execute_result"
    }
   ],
   "source": [
    "#Vektorisasi dgn TF-IDF\n",
    "from sklearn.feature_extraction.text import TfidfVectorizer\n",
    "objek_vektorizer = TfidfVectorizer()\n",
    "vektor_x = objek_vektorizer.fit_transform(x['Review']).toarray()\n",
    "vektor_x"
   ]
  },
  {
   "cell_type": "code",
   "execution_count": 42,
   "id": "77945732",
   "metadata": {},
   "outputs": [
    {
     "data": {
      "text/plain": [
       "numpy.ndarray"
      ]
     },
     "execution_count": 42,
     "metadata": {},
     "output_type": "execute_result"
    }
   ],
   "source": [
    "type (vektor_x)"
   ]
  },
  {
   "cell_type": "code",
   "execution_count": 43,
   "id": "a14ff5fd",
   "metadata": {},
   "outputs": [
    {
     "name": "stdout",
     "output_type": "stream",
     "text": [
      "Jumlah Fitur Kata yang Dihasilkan:  1500\n"
     ]
    }
   ],
   "source": [
    "#Cek jumlah features\n",
    "jumlah = objek_vektorizer.get_feature_names()\n",
    "print(\"Jumlah Fitur Kata yang Dihasilkan: \", len(jumlah))"
   ]
  },
  {
   "cell_type": "code",
   "execution_count": 44,
   "id": "947bee40",
   "metadata": {},
   "outputs": [
    {
     "name": "stdout",
     "output_type": "stream",
     "text": [
      "Jumlah 100 fitur kata yang dihasilkan dari proses vektorisasi : 100\n",
      "\n",
      "\n",
      "['adem', 'ajar', 'alam', 'anak', 'and', 'asli', 'asri', 'awal', 'awat', 'bagus', 'baik', 'banget', 'bangun', 'bank', 'banyak', 'baru', 'baturaden', 'bayar', 'beberapa', 'bersih', 'bri', 'buat', 'cocok', 'cukup', 'dapat', 'dingin', 'diri', 'dulu', 'edukasi', 'enak', 'for', 'foto', 'gratis', 'harga', 'hari', 'hutan', 'indah', 'indonesia', 'isi', 'jadi', 'jalan', 'jaman', 'jauh', 'kali', 'kalo', 'keluarga', 'keren', 'kesini', 'koleksi', 'kota', 'kunjung', 'kuno', 'lantai', 'lengkap', 'libur', 'lokasi', 'luas', 'lumayan', 'main', 'masa', 'masuk', 'mata', 'mesin', 'mudah', 'museum', 'nyaman', 'of', 'orang', 'pandang', 'parkir', 'pas', 'perban', 'pernah', 'pertama', 'pinus', 'place', 'purwokerto', 'rakyat', 'rb', 'salah', 'sama', 'sangat', 'satu', 'segar', 'sejarah', 'sejuk', 'sekali', 'sini', 'spot', 'suka', 'tahu', 'tempat', 'the', 'this', 'tiket', 'to', 'toilet', 'uang', 'udara', 'wisata']\n",
      "\n",
      "\n",
      " Ini 100 fitur kata:\n",
      "[[0.         0.         0.         ... 0.         0.         0.        ]\n",
      " [0.         0.         0.         ... 0.         0.23053518 0.        ]\n",
      " [0.         0.         0.         ... 0.         0.         0.16591834]\n",
      " ...\n",
      " [0.         0.31817303 0.         ... 0.         0.         0.        ]\n",
      " [0.         0.         0.         ... 0.         0.         0.        ]\n",
      " [0.         0.         0.         ... 0.         0.         0.        ]]\n"
     ]
    }
   ],
   "source": [
    "#buat objek baru objek_vektorizer_100\n",
    "objek_vektorizer_100 = TfidfVectorizer(max_features=100)\n",
    "\n",
    "#proses vektorisasi\n",
    "vektor_X_100 = objek_vektorizer_100.fit_transform(x['Review']).toarray()\n",
    "\n",
    "#mencari 100 fitur pertama\n",
    "jumlah_fitur_100 = objek_vektorizer_100.get_feature_names()\n",
    "print(\"Jumlah 100 fitur kata yang dihasilkan dari proses vektorisasi :\",len (jumlah_fitur_100))\n",
    "print(\"\\n\")\n",
    "#tampilkan 100 fitur kata pertama\n",
    "print(jumlah_fitur_100)\n",
    "\n",
    "#Tampiljkan bobot 100 fitur pertama\n",
    "print(\"\\n\\n Ini 100 fitur kata:\")\n",
    "print(vektor_X_100)"
   ]
  },
  {
   "cell_type": "code",
   "execution_count": 46,
   "id": "f2f7d540",
   "metadata": {},
   "outputs": [],
   "source": [
    "from sklearn.model_selection import train_test_split\n",
    "y=x['label']\n",
    "y=y.astype('int')"
   ]
  },
  {
   "cell_type": "code",
   "execution_count": 61,
   "id": "78a5fd26",
   "metadata": {},
   "outputs": [],
   "source": [
    "x_train, x_test,y_train, y_test = train_test_split(vektor_x,y,test_size=0.2,random_state=0)"
   ]
  },
  {
   "cell_type": "markdown",
   "id": "500251cd",
   "metadata": {},
   "source": [
    "# Naive Bayes"
   ]
  },
  {
   "cell_type": "code",
   "execution_count": 62,
   "id": "e08ead32",
   "metadata": {},
   "outputs": [],
   "source": [
    "from sklearn.naive_bayes import MultinomialNB\n",
    "from sklearn.naive_bayes import BernoulliNB\n",
    "model_MNB = MultinomialNB()\n",
    "model_BNB = BernoulliNB()"
   ]
  },
  {
   "cell_type": "code",
   "execution_count": 64,
   "id": "de6c94dd",
   "metadata": {},
   "outputs": [
    {
     "data": {
      "text/plain": [
       "MultinomialNB()"
      ]
     },
     "execution_count": 64,
     "metadata": {},
     "output_type": "execute_result"
    }
   ],
   "source": [
    "model_MNB.fit(x_train, y_train)"
   ]
  },
  {
   "cell_type": "code",
   "execution_count": 65,
   "id": "fdd4463a",
   "metadata": {},
   "outputs": [
    {
     "data": {
      "text/plain": [
       "BernoulliNB()"
      ]
     },
     "execution_count": 65,
     "metadata": {},
     "output_type": "execute_result"
    }
   ],
   "source": [
    "model_BNB.fit(x_train, y_train)"
   ]
  },
  {
   "cell_type": "code",
   "execution_count": 67,
   "id": "70066820",
   "metadata": {},
   "outputs": [
    {
     "name": "stdout",
     "output_type": "stream",
     "text": [
      "Skor akurasi menggunakan Multinomial Naive Bayes\n"
     ]
    },
    {
     "data": {
      "text/plain": [
       "0.7125"
      ]
     },
     "execution_count": 67,
     "metadata": {},
     "output_type": "execute_result"
    }
   ],
   "source": [
    "from sklearn.metrics import accuracy_score\n",
    "y_pred = model_MNB.predict(x_test)\n",
    "print('Skor akurasi menggunakan Multinomial Naive Bayes')\n",
    "accuracy_score(y_test, y_pred)"
   ]
  },
  {
   "cell_type": "code",
   "execution_count": 69,
   "id": "3031aa50",
   "metadata": {},
   "outputs": [
    {
     "name": "stdout",
     "output_type": "stream",
     "text": [
      "Skor akurasi menggunakan Bernoulli Naive Bayes\n"
     ]
    },
    {
     "data": {
      "text/plain": [
       "0.7"
      ]
     },
     "execution_count": 69,
     "metadata": {},
     "output_type": "execute_result"
    }
   ],
   "source": [
    "from sklearn.metrics import accuracy_score\n",
    "y_predd= model_BNB.predict(x_test)\n",
    "print('Skor akurasi menggunakan Bernoulli Naive Bayes')\n",
    "accuracy_score(y_test, y_predd)"
   ]
  },
  {
   "cell_type": "code",
   "execution_count": 73,
   "id": "c4e09563",
   "metadata": {},
   "outputs": [
    {
     "name": "stdout",
     "output_type": "stream",
     "text": [
      " TABEL CONFUSSION MATRIX\n",
      "==========================\n",
      "[[55  0  2]\n",
      " [15  0  0]\n",
      " [ 7  0  1]]\n",
      " TABEL AKURASI\n",
      "====================================================\n",
      "              precision    recall  f1-score   support\n",
      "\n",
      "          -1       0.33      0.12      0.18         8\n",
      "           0       0.00      0.00      0.00        15\n",
      "           1       0.71      0.96      0.82        57\n",
      "\n",
      "    accuracy                           0.70        80\n",
      "   macro avg       0.35      0.36      0.33        80\n",
      "weighted avg       0.54      0.70      0.60        80\n",
      "\n"
     ]
    },
    {
     "name": "stderr",
     "output_type": "stream",
     "text": [
      "C:\\Users\\ASUS\\anaconda3\\lib\\site-packages\\sklearn\\metrics\\_classification.py:1248: UndefinedMetricWarning: Precision and F-score are ill-defined and being set to 0.0 in labels with no predicted samples. Use `zero_division` parameter to control this behavior.\n",
      "  _warn_prf(average, modifier, msg_start, len(result))\n",
      "C:\\Users\\ASUS\\anaconda3\\lib\\site-packages\\sklearn\\metrics\\_classification.py:1248: UndefinedMetricWarning: Precision and F-score are ill-defined and being set to 0.0 in labels with no predicted samples. Use `zero_division` parameter to control this behavior.\n",
      "  _warn_prf(average, modifier, msg_start, len(result))\n",
      "C:\\Users\\ASUS\\anaconda3\\lib\\site-packages\\sklearn\\metrics\\_classification.py:1248: UndefinedMetricWarning: Precision and F-score are ill-defined and being set to 0.0 in labels with no predicted samples. Use `zero_division` parameter to control this behavior.\n",
      "  _warn_prf(average, modifier, msg_start, len(result))\n"
     ]
    }
   ],
   "source": [
    "# Menguji akurasi dari model menggunakan metode confussion matrix\n",
    "from sklearn.metrics import classification_report, confusion_matrix, accuracy_score\n",
    "y_predd = model_BNB.predict(x_test)\n",
    "print(\" TABEL CONFUSSION MATRIX\")\n",
    "print(\"==========================\")\n",
    "print(confusion_matrix(y_test,y_predd, labels=[1,0,-1]))\n",
    "print(\" TABEL AKURASI\")\n",
    "print(\"====================================================\")\n",
    "print(classification_report(y_test,y_predd))"
   ]
  },
  {
   "cell_type": "code",
   "execution_count": 77,
   "id": "6f627f02",
   "metadata": {},
   "outputs": [
    {
     "data": {
      "image/png": "[encoded data removed]",
      "text/plain": [
       "<Figure size 576x360 with 2 Axes>"
      ]
     },
     "metadata": {
      "needs_background": "light"
     },
     "output_type": "display_data"
    }
   ],
   "source": [
    "import matplotlib.pyplot as plt\n",
    "import seaborn as sns\n",
    "f, ax = plt.subplots(figsize=(8,5))\n",
    "sns.heatmap(confusion_matrix(y_test, y_predd), annot=True, fmt=\".0f\", ax=ax)\n",
    "plt.xlabel(\"Predicted Label\")\n",
    "plt.ylabel(\"Actual/ True Label\")\n",
    "plt.title(\"Bernoulli NB\")\n",
    "plt.show()"
   ]
  },
  {
   "cell_type": "markdown",
   "id": "0d57237a",
   "metadata": {},
   "source": [
    "# Support vector Machine"
   ]
  },
  {
   "cell_type": "code",
   "execution_count": 78,
   "id": "350d421a",
   "metadata": {},
   "outputs": [
    {
     "data": {
      "text/plain": [
       "SVC(random_state=0)"
      ]
     },
     "execution_count": 78,
     "metadata": {},
     "output_type": "execute_result"
    }
   ],
   "source": [
    "from sklearn.svm import SVC\n",
    "model_SVM = SVC(random_state=0)\n",
    "model_SVM.fit(x_train, y_train)"
   ]
  },
  {
   "cell_type": "code",
   "execution_count": 79,
   "id": "907a2572",
   "metadata": {},
   "outputs": [
    {
     "data": {
      "text/plain": [
       "0.7375"
      ]
     },
     "execution_count": 79,
     "metadata": {},
     "output_type": "execute_result"
    }
   ],
   "source": [
    "from sklearn.metrics import accuracy_score\n",
    "y_preds = model_SVM.predict(x_test)\n",
    "accuracy_score(y_test, y_preds)"
   ]
  },
  {
   "cell_type": "code",
   "execution_count": 83,
   "id": "c490bd29",
   "metadata": {},
   "outputs": [
    {
     "name": "stdout",
     "output_type": "stream",
     "text": [
      " TABEL CONFUSSION MATRIX\n",
      "==========================\n",
      "[[57  0  0]\n",
      " [13  2  0]\n",
      " [ 8  0  0]]\n",
      " TABEL AKURASI\n",
      "====================================================\n",
      "              precision    recall  f1-score   support\n",
      "\n",
      "          -1       0.00      0.00      0.00         8\n",
      "           0       1.00      0.13      0.24        15\n",
      "           1       0.73      1.00      0.84        57\n",
      "\n",
      "    accuracy                           0.74        80\n",
      "   macro avg       0.58      0.38      0.36        80\n",
      "weighted avg       0.71      0.74      0.65        80\n",
      "\n"
     ]
    },
    {
     "name": "stderr",
     "output_type": "stream",
     "text": [
      "C:\\Users\\ASUS\\anaconda3\\lib\\site-packages\\sklearn\\metrics\\_classification.py:1248: UndefinedMetricWarning: Precision and F-score are ill-defined and being set to 0.0 in labels with no predicted samples. Use `zero_division` parameter to control this behavior.\n",
      "  _warn_prf(average, modifier, msg_start, len(result))\n",
      "C:\\Users\\ASUS\\anaconda3\\lib\\site-packages\\sklearn\\metrics\\_classification.py:1248: UndefinedMetricWarning: Precision and F-score are ill-defined and being set to 0.0 in labels with no predicted samples. Use `zero_division` parameter to control this behavior.\n",
      "  _warn_prf(average, modifier, msg_start, len(result))\n",
      "C:\\Users\\ASUS\\anaconda3\\lib\\site-packages\\sklearn\\metrics\\_classification.py:1248: UndefinedMetricWarning: Precision and F-score are ill-defined and being set to 0.0 in labels with no predicted samples. Use `zero_division` parameter to control this behavior.\n",
      "  _warn_prf(average, modifier, msg_start, len(result))\n"
     ]
    }
   ],
   "source": [
    "# Menguji akurasi dari model menggunakan confussion matrix\n",
    "from sklearn.metrics import classification_report, confusion_matrix, accuracy_score\n",
    "y_pred = model_SVM.predict(x_test)\n",
    "print(\" TABEL CONFUSSION MATRIX\")\n",
    "print(\"==========================\")\n",
    "print(confusion_matrix(y_test,y_preds, labels=[1,0,-1]))\n",
    "print(\" TABEL AKURASI\")\n",
    "print(\"====================================================\")\n",
    "print(classification_report(y_test,y_preds))"
   ]
  },
  {
   "cell_type": "code",
   "execution_count": 85,
   "id": "823d6d26",
   "metadata": {},
   "outputs": [
    {
     "data": {
      "image/png": "[encoded data removed]",
      "text/plain": [
       "<Figure size 576x360 with 2 Axes>"
      ]
     },
     "metadata": {
      "needs_background": "light"
     },
     "output_type": "display_data"
    }
   ],
   "source": [
    "import matplotlib.pyplot as plt\n",
    "import seaborn as sns\n",
    "f, ax = plt.subplots(figsize=(8,5))\n",
    "sns.heatmap(confusion_matrix(y_test, y_preds), annot=True, fmt=\".0f\", ax=ax)\n",
    "plt.xlabel(\"Predicted Label\")\n",
    "plt.ylabel(\"Actual/ True Label\")\n",
    "plt.title(\"SVM\")\n",
    "plt.show()"
   ]
  },
  {
   "cell_type": "markdown",
   "id": "eaf86285",
   "metadata": {},
   "source": [
    "# Decision Tree"
   ]
  },
  {
   "cell_type": "code",
   "execution_count": 86,
   "id": "9cef732d",
   "metadata": {},
   "outputs": [],
   "source": [
    "from sklearn.tree import DecisionTreeClassifier as DTC\n",
    "model_DTC = DTC()"
   ]
  },
  {
   "cell_type": "code",
   "execution_count": 89,
   "id": "2d48554b",
   "metadata": {},
   "outputs": [
    {
     "data": {
      "text/plain": [
       "DecisionTreeClassifier()"
      ]
     },
     "execution_count": 89,
     "metadata": {},
     "output_type": "execute_result"
    }
   ],
   "source": [
    "model_DTC.fit(x_train, y_train)"
   ]
  },
  {
   "cell_type": "code",
   "execution_count": 90,
   "id": "cca90810",
   "metadata": {},
   "outputs": [
    {
     "data": {
      "text/plain": [
       "0.7375"
      ]
     },
     "execution_count": 90,
     "metadata": {},
     "output_type": "execute_result"
    }
   ],
   "source": [
    "y_predss = model_DTC.predict(x_test)\n",
    "accuracy_score(y_test,y_predss)"
   ]
  },
  {
   "cell_type": "code",
   "execution_count": 93,
   "id": "078a944b",
   "metadata": {},
   "outputs": [
    {
     "name": "stdout",
     "output_type": "stream",
     "text": [
      " TABEL CONFUSSION MATRIX\n",
      "==========================\n",
      "[[48  8  1]\n",
      " [10  5  0]\n",
      " [ 2  0  6]]\n",
      " TABEL AKURASI\n",
      "====================================================\n",
      "              precision    recall  f1-score   support\n",
      "\n",
      "          -1       0.86      0.75      0.80         8\n",
      "           0       0.38      0.33      0.36        15\n",
      "           1       0.80      0.84      0.82        57\n",
      "\n",
      "    accuracy                           0.74        80\n",
      "   macro avg       0.68      0.64      0.66        80\n",
      "weighted avg       0.73      0.74      0.73        80\n",
      "\n"
     ]
    }
   ],
   "source": [
    "# Menguji akurasi dari model menggunakan confussion matrix\n",
    "from sklearn.metrics import classification_report, confusion_matrix, accuracy_score\n",
    "y_pred = model_DTC.predict(x_test)\n",
    "print(\" TABEL CONFUSSION MATRIX\")\n",
    "print(\"==========================\")\n",
    "print(confusion_matrix(y_test,y_predss, labels=[1,0,-1]))\n",
    "print(\" TABEL AKURASI\")\n",
    "print(\"====================================================\")\n",
    "print(classification_report(y_test,y_predss))"
   ]
  },
  {
   "cell_type": "code",
   "execution_count": 94,
   "id": "0d6d6e6f",
   "metadata": {},
   "outputs": [
    {
     "data": {
      "image/png": "[encoded data removed]",
      "text/plain": [
       "<Figure size 576x360 with 2 Axes>"
      ]
     },
     "metadata": {
      "needs_background": "light"
     },
     "output_type": "display_data"
    }
   ],
   "source": [
    "import matplotlib.pyplot as plt\n",
    "import seaborn as sns\n",
    "f, ax = plt.subplots(figsize=(8,5))\n",
    "sns.heatmap(confusion_matrix(y_test, y_predss), annot=True, fmt=\".0f\", ax=ax)\n",
    "plt.xlabel(\"Predicted Label\")\n",
    "plt.ylabel(\"Actual/ True Label\")\n",
    "plt.title(\"Decision Tree\")\n",
    "plt.show()"
   ]
  },
  {
   "cell_type": "markdown",
   "id": "efe69af6",
   "metadata": {},
   "source": [
    "# Kesimpulan\n",
    "Dengan menggunakan komentar Hutan Pinus Limpakuwus dan Museum BRI pada data Hasil Program, diperoleh hasil:\n",
    "1. Bernoulli Naive Bayes\n",
    "Akurasi yang didapatkan sebesar 0.7 dengan 55 benar\n",
    "2. Support Vector Machine\n",
    "Akurasi yang didapatkan sebesar 0.7375 dengan 57 benar\n",
    "3. Decision Tree\n",
    "Akurasi yang didapatkan sebesar 0.7375 dengan 48 benar"
   ]
  }
 ],
 "metadata": {
  "kernelspec": {
   "display_name": "Python 3 (ipykernel)",
   "language": "python",
   "name": "python3"
  },
  "language_info": {
   "codemirror_mode": {
    "name": "ipython",
    "version": 3
   },
   "file_extension": ".py",
   "mimetype": "text/x-python",
   "name": "python",
   "nbconvert_exporter": "python",
   "pygments_lexer": "ipython3",
   "version": "3.9.7"
  }
 },
 "nbformat": 4,
 "nbformat_minor": 5
}
